{
 "cells": [
  {
   "cell_type": "code",
   "execution_count": 1,
   "metadata": {},
   "outputs": [],
   "source": [
    "import openai\n",
    "import os\n",
    "import fnmatch\n",
    "from time import time, sleep\n",
    "import textwrap\n",
    "import re\n",
    "\n",
    "openai.api_key = os.getenv(\"PRIVATE_OPENAI_KEY\")\n",
    "\n",
    "\n",
    "def open_file(filepath):\n",
    "    with open(filepath, 'r', encoding='utf-8') as infile:\n",
    "        return infile.read()\n",
    "\n",
    "def save_file(content, filepath):\n",
    "    with open(filepath, 'w', encoding='utf-8') as outfile:\n",
    "        outfile.write(content)\n",
    "\n",
    "def read_files_recursively(dir_path):\n",
    "    file_data = []\n",
    "    for root, _, filenames in os.walk(dir_path):\n",
    "        for filename in fnmatch.filter(filenames, '*.ts'):\n",
    "            file_path = os.path.join(root, filename)\n",
    "            relative_path = os.path.relpath(file_path, dir_path)\n",
    "            file_contents = open_file(file_path)\n",
    "            file_data.append((relative_path, file_contents))\n",
    "    return file_data\n"
   ]
  },
  {
   "cell_type": "code",
   "execution_count": 2,
   "metadata": {},
   "outputs": [],
   "source": [
    "file_contents = read_files_recursively('src/routes/api/')"
   ]
  },
  {
   "cell_type": "code",
   "execution_count": 3,
   "metadata": {},
   "outputs": [],
   "source": [
    "sveltekit_docs = open_file('sveltekit_docs.md')\n",
    "prisma_schema = open_file('prisma/schema.prisma')"
   ]
  },
  {
   "cell_type": "code",
   "execution_count": 8,
   "metadata": {},
   "outputs": [],
   "source": [
    "for path, content in file_contents:\n",
    "    completion = openai.ChatCompletion.create(\n",
    "    model=\"gpt-3.5-turbo\",\n",
    "        messages=[\n",
    "            {\"role\": \"system\", \"content\": \"You are a system that can generate documentation for a SvelteKit project. This is the most recent sveltekit documentation on server api routes: \" + sveltekit_docs + \"\\n\" + \"This is the most recent prisma schema for the app: \" + prisma_schema},\n",
    "            {\"role\": \"user\", \"content\": \"Create api documentation in markdown with tables for request and response paramters with field, type, required (only for request) and description columns for the following api route: /api/\" + str(path) + \". It has the following functions in TypeScript: \" + str(content) },\n",
    "        ],\n",
    "    )\n",
    "    completion.usage.total_tokens\n",
    "    docs = open_file('generated_docs.md')\n",
    "    save_file(docs + \"\\n\" + completion.choices[0].message.content, 'generated_docs.md')"
   ]
  },
  {
   "cell_type": "code",
   "execution_count": 13,
   "metadata": {},
   "outputs": [
    {
     "data": {
      "text/plain": [
       "2402"
      ]
     },
     "execution_count": 13,
     "metadata": {},
     "output_type": "execute_result"
    }
   ],
   "source": [
    "completion = openai.ChatCompletion.create(\n",
    "    model=\"gpt-4\",\n",
    "    messages=[\n",
    "        {\"role\": \"system\", \"content\": \"You are a system that should generate ERDs based on prisma schemas.\"},\n",
    "        {\"role\": \"user\", \"content\": \"Generate an Entity Relation Diagram in markdown format, also draw relationships between entities, for the following prisma schema: \" + prisma_schema},\n",
    "    ],\n",
    ")\n",
    "completion.usage.total_tokens\n"
   ]
  },
  {
   "cell_type": "code",
   "execution_count": 12,
   "metadata": {},
   "outputs": [],
   "source": [
    "erd = completion.choices[0].message.content\n",
    "save_file(erd, 'generated_erd.md')"
   ]
  }
 ],
 "metadata": {
  "kernelspec": {
   "display_name": "Python 3",
   "language": "python",
   "name": "python3"
  },
  "language_info": {
   "codemirror_mode": {
    "name": "ipython",
    "version": 3
   },
   "file_extension": ".py",
   "mimetype": "text/x-python",
   "name": "python",
   "nbconvert_exporter": "python",
   "pygments_lexer": "ipython3",
   "version": "3.11.2"
  },
  "orig_nbformat": 4
 },
 "nbformat": 4,
 "nbformat_minor": 2
}
